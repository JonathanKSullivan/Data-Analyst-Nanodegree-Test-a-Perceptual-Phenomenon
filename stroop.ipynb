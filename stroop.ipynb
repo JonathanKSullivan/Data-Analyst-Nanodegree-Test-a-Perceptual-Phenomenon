{
 "cells": [
  {
   "cell_type": "markdown",
   "metadata": {},
   "source": [
    "# Test a Perceptual Phenomenon\n",
    "## Hypothesis Test for Stroop Effect\n",
    "In a Stroop task, participants are presented with a list of words, with each word displayed in a color of ink. The participant’s task is to say out loud the color of the ink in which the word is printed. The task has two conditions: a congruent words condition, and an incongruent words condition. In the congruent words condition, the words being displayed are color words whose names match the colors in which they are printed: for example RED, BLUE. In the incongruent words condition, the words displayed are color words whose names do not match the colors in which they are printed: for example PURPLE, ORANGE. In each case, we measure the time it takes to name the ink colors in equally-sized lists. Each participant will go through and record a time from each condition."
   ]
  },
  {
   "cell_type": "code",
   "execution_count": 2,
   "metadata": {
    "collapsed": false
   },
   "outputs": [],
   "source": [
    "import numpy as np\n",
    "import pandas as pd"
   ]
  },
  {
   "cell_type": "code",
   "execution_count": 3,
   "metadata": {
    "collapsed": false
   },
   "outputs": [
    {
     "name": "stdout",
     "output_type": "stream",
     "text": [
      "   Congruent  Incongruent\n",
      "0     12.079       19.278\n",
      "1     16.791       18.741\n",
      "2      9.564       21.214\n",
      "3      8.630       15.687\n",
      "4     14.669       22.803\n"
     ]
    }
   ],
   "source": [
    "df = pd.read_csv('./stroopdata.csv')\n",
    "print df.head()\n"
   ]
  },
  {
   "cell_type": "markdown",
   "metadata": {},
   "source": [
    "### 1. What is our independent variable? What is our dependent variable?"
   ]
  },
  {
   "cell_type": "markdown",
   "metadata": {},
   "source": [
    "In this problem we are given a list of two times for each trial. One time represents the time it take to recognize a **congruent** word and the the second represents the time it takes to recognize a **incongruent** word. Since the time recorded are dependent upon on whether the words presented where **congruent**  or **incongruent**, then we can say that the word's congruence is the *independent variable* and time taken to recognize the word as the *dependent variable*"
   ]
  },
  {
   "cell_type": "markdown",
   "metadata": {},
   "source": [
    "### 2. What is an appropriate set of hypotheses for this task? What kind of statistical test do you expect to perform? Justify your choices."
   ]
  },
  {
   "cell_type": "markdown",
   "metadata": {},
   "source": [
    "As you will see below, by inspection of the descriptive statistics it seem that word congruence might affect the time it take to recognize a word. In the mean, min, 1st quartile, meadian, and 3rd quartile, and max time were high for words that were incongruent than for words that are congruent. There for I would state my *null Hypothesis* H<sub>0</sub> and my *alternative hypothesis* H<sub>1</sub> as follows:\n",
    "- H<sub>0</sub>: $\\mu ( t_c )$ = 14.051125\t\n",
    "- H<sub>1</sub>: $\\mu ( t_i )$ > 14.051125\t\n",
    "\n",
    "*where t<sub>c</sub> is the time taken to recognize a congruent word and t<sub>i</sub> is the time take to recognize a incongruent word*\n",
    "\n",
    "Since the sample size is under 30 our data will not be normally distrubed. It will fit a t-distribution. Therefore we will use a student t test. We will reject H<sub>0</sub> if $P(\\bar{X}=22.015917)< \\alpha$"
   ]
  },
  {
   "cell_type": "markdown",
   "metadata": {},
   "source": [
    "### 3. Report some descriptive statistics regarding this dataset. Include at least one measure of central tendency and at least one measure of variability."
   ]
  },
  {
   "cell_type": "code",
   "execution_count": 4,
   "metadata": {
    "collapsed": false
   },
   "outputs": [
    {
     "data": {
      "text/html": [
       "<div>\n",
       "<table border=\"1\" class=\"dataframe\">\n",
       "  <thead>\n",
       "    <tr style=\"text-align: right;\">\n",
       "      <th></th>\n",
       "      <th>Congruent</th>\n",
       "      <th>Incongruent</th>\n",
       "    </tr>\n",
       "  </thead>\n",
       "  <tbody>\n",
       "    <tr>\n",
       "      <th>count</th>\n",
       "      <td>24.000000</td>\n",
       "      <td>24.000000</td>\n",
       "    </tr>\n",
       "    <tr>\n",
       "      <th>mean</th>\n",
       "      <td>14.051125</td>\n",
       "      <td>22.015917</td>\n",
       "    </tr>\n",
       "    <tr>\n",
       "      <th>std</th>\n",
       "      <td>3.559358</td>\n",
       "      <td>4.797057</td>\n",
       "    </tr>\n",
       "    <tr>\n",
       "      <th>min</th>\n",
       "      <td>8.630000</td>\n",
       "      <td>15.687000</td>\n",
       "    </tr>\n",
       "    <tr>\n",
       "      <th>25%</th>\n",
       "      <td>11.895250</td>\n",
       "      <td>18.716750</td>\n",
       "    </tr>\n",
       "    <tr>\n",
       "      <th>50%</th>\n",
       "      <td>14.356500</td>\n",
       "      <td>21.017500</td>\n",
       "    </tr>\n",
       "    <tr>\n",
       "      <th>75%</th>\n",
       "      <td>16.200750</td>\n",
       "      <td>24.051500</td>\n",
       "    </tr>\n",
       "    <tr>\n",
       "      <th>max</th>\n",
       "      <td>22.328000</td>\n",
       "      <td>35.255000</td>\n",
       "    </tr>\n",
       "  </tbody>\n",
       "</table>\n",
       "</div>"
      ],
      "text/plain": [
       "       Congruent  Incongruent\n",
       "count  24.000000    24.000000\n",
       "mean   14.051125    22.015917\n",
       "std     3.559358     4.797057\n",
       "min     8.630000    15.687000\n",
       "25%    11.895250    18.716750\n",
       "50%    14.356500    21.017500\n",
       "75%    16.200750    24.051500\n",
       "max    22.328000    35.255000"
      ]
     },
     "execution_count": 4,
     "metadata": {},
     "output_type": "execute_result"
    }
   ],
   "source": [
    "df.describe()"
   ]
  },
  {
   "cell_type": "markdown",
   "metadata": {},
   "source": [
    "##### Central Tendency\n",
    "As we can see from the chart above the means is for the congruent word time and the incongruent word time are 14.051125\tand 22.015917 respectively. We can also observe the means is for the congruent word time and the incongruent word time are 14.356500 and 21.017500 respectively.\n",
    "\n",
    "##### Variability\n",
    "We can also observe the standard deviation for the congruent word time and the incongruent word time are 3.559358 and 4.797057 respectively."
   ]
  },
  {
   "cell_type": "markdown",
   "metadata": {},
   "source": [
    "### 4. Provide one or two visualizations that show the distribution of the sample data. Write one or two sentences noting what you observe about the plot or plots."
   ]
  },
  {
   "cell_type": "code",
   "execution_count": 72,
   "metadata": {
    "collapsed": false
   },
   "outputs": [
    {
     "data": {
      "image/png": "[encoded data removed]",
      "text/plain": [
       "<matplotlib.figure.Figure at 0x107898fd0>"
      ]
     },
     "metadata": {},
     "output_type": "display_data"
    },
    {
     "data": {
      "image/png": "[encoded data removed]",
      "text/plain": [
       "<matplotlib.figure.Figure at 0x1082bf9d0>"
      ]
     },
     "metadata": {},
     "output_type": "display_data"
    }
   ],
   "source": [
    "x = df['Congruent']\n",
    "y = df['Incongruent']\n",
    "\n",
    "# Two subplots, unpack the output array immediately\n",
    "f, (ax1, ax2) = plt.subplots(2, 1, sharex=True)\n",
    "f.suptitle('Frequency of')\n",
    "ax1.hist(x)\n",
    "ax1.set_title('Congruent words times')\n",
    "ax1.set_ylabel('frequency') \n",
    "ax2.hist(y)\n",
    "ax2.set_title('InCongruent words times')\n",
    "ax2.set_xlabel('time') \n",
    "ax2.set_ylabel('frequency') \n",
    "\n",
    "f, (ax3, ax4) = plt.subplots(1, 2, sharey=True)\n",
    "f.suptitle('Boxplot for')\n",
    "ax3.boxplot(x)\n",
    "ax3.set_title('Congruent words times')\n",
    "ax3.set_ylabel('time') \n",
    "ax4.boxplot(y)\n",
    "ax4.set_title('Inongruent words times')\n",
    "plt.show()"
   ]
  },
  {
   "cell_type": "markdown",
   "metadata": {},
   "source": [
    "From the first two histograms we can see more about the distribution of data between both congruent and incongruent trials. We can clearly see there is more variability and a lower mean  with congruent words. We also see something similar with the last two boxplots however we can now visualize two outliers in the incongruent word times and quantile statistics most of which are lower for congruent word times than incongruent word times."
   ]
  },
  {
   "cell_type": "markdown",
   "metadata": {},
   "source": [
    "### 5. Now, perform the statistical test and report your results. What is your confidence level and your critical statistic value? Do you reject the null hypothesis or fail to reject it? Come to a conclusion in terms of the experiment task. Did the results match up with your expectations?"
   ]
  },
  {
   "cell_type": "code",
   "execution_count": 81,
   "metadata": {
    "collapsed": false
   },
   "outputs": [
    {
     "name": "stdout",
     "output_type": "stream",
     "text": [
      "t = 8.13401841705\n",
      "prob = 3.22160640062e-08\n"
     ]
    }
   ],
   "source": [
    "import scipy.stats as st\n",
    "t, prob = st.ttest_1samp(df['Incongruent'], df['Congruent'].mean())\n",
    "print(\"t = \"+ str(t))\n",
    "print(\"prob = \"+ str(prob))"
   ]
  },
  {
   "cell_type": "markdown",
   "metadata": {},
   "source": [
    "If we set $\\alpha$ equal to .01 then our confidence level is 0.99. Our critical statistic in this instance is a t-statistic who value is 8.13401841705. Since $P(\\bar{X}=22.015917)< \\alpha$ we will reject H<sub>0</sub>. I beleive that there is enough evidence to warrent that a words congruencr can effect the time it take to be read. These results are similar to what I would have guessed they would be."
   ]
  },
  {
   "cell_type": "markdown",
   "metadata": {},
   "source": [
    "### 6. Optional: What do you think is responsible for the effects observed? Can you think of an alternative or similar task that would result in a similar effect? Some research about the problem will be helpful for thinking about these two questions!"
   ]
  },
  {
   "cell_type": "markdown",
   "metadata": {},
   "source": [
    "Responding to incongruent stimuli responses in the brain cause a moment of indecision called interference. Other sensory modalities and variables can be used to conduct modified Stroop test. The test could be reversed, or include warped words. The Stroop test has also been applied to emotions and spacial stimuli. One case I find interesting is ask which number is bigger when the number are different font sizes."
   ]
  }
 ],
 "metadata": {
  "kernelspec": {
   "display_name": "Python 2",
   "language": "python",
   "name": "python2"
  },
  "language_info": {
   "codemirror_mode": {
    "name": "ipython",
    "version": 2
   },
   "file_extension": ".py",
   "mimetype": "text/x-python",
   "name": "python",
   "nbconvert_exporter": "python",
   "pygments_lexer": "ipython2",
   "version": "2.7.10"
  }
 },
 "nbformat": 4,
 "nbformat_minor": 1
}
